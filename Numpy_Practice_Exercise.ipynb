{
  "nbformat": 4,
  "nbformat_minor": 0,
  "metadata": {
    "colab": {
      "provenance": [],
      "include_colab_link": true
    },
    "kernelspec": {
      "name": "python3",
      "display_name": "Python 3"
    }
  },
  "cells": [
    {
      "cell_type": "markdown",
      "metadata": {
        "id": "view-in-github",
        "colab_type": "text"
      },
      "source": [
        "<a href=\"https://colab.research.google.com/github/swift-001/chirp/blob/main/Numpy_Practice_Exercise.ipynb\" target=\"_parent\"><img src=\"https://colab.research.google.com/assets/colab-badge.svg\" alt=\"Open In Colab\"/></a>"
      ]
    },
    {
      "cell_type": "markdown",
      "source": [
        "<h1> ML.AI Week 1 Numpy Practice Notebook</h1>"
      ],
      "metadata": {
        "id": "ndFfgi7ewjBm"
      }
    },
    {
      "cell_type": "markdown",
      "source": [
        "## Importing Libraries"
      ],
      "metadata": {
        "id": "FLCCQQWewQMO"
      }
    },
    {
      "cell_type": "code",
      "metadata": {
        "id": "ipBx5KY2wWr3"
      },
      "source": [
        "# Import NumPy\n",
        "import numpy as np"
      ],
      "execution_count": null,
      "outputs": []
    },
    {
      "cell_type": "markdown",
      "source": [
        "# Basics"
      ],
      "metadata": {
        "id": "i-M87Y3Ywgza"
      }
    },
    {
      "cell_type": "markdown",
      "source": [
        "## Create NumPy Array"
      ],
      "metadata": {
        "id": "oO5gw_3awNAC"
      }
    },
    {
      "cell_type": "code",
      "metadata": {
        "id": "xCRUIOP8wywQ",
        "colab": {
          "base_uri": "https://localhost:8080/"
        },
        "outputId": "df4fc839-abcd-417a-8f5b-04d7385f95ec"
      },
      "source": [
        "my_list = [0,1,2,3,4,5,6,7,8,9]\n",
        "\n",
        "# Create NumPy array from my_list\n",
        "nparr = np.array(my_list)\n",
        "print(nparr)"
      ],
      "execution_count": null,
      "outputs": [
        {
          "output_type": "stream",
          "name": "stdout",
          "text": [
            "[0 1 2 3 4 5 6 7 8 9]\n"
          ]
        }
      ]
    },
    {
      "cell_type": "code",
      "metadata": {
        "id": "XyVPJpzyw35U",
        "colab": {
          "base_uri": "https://localhost:8080/"
        },
        "outputId": "438187dd-e1fc-4e67-fb27-e5a11876f05e"
      },
      "source": [
        "# Create NumPy array with numbers from 0 to 9 using arange method\n",
        "nparr = np.arange(0, 10)\n",
        "print(nparr)"
      ],
      "execution_count": null,
      "outputs": [
        {
          "output_type": "stream",
          "name": "stdout",
          "text": [
            "[0 1 2 3 4 5 6 7 8 9]\n"
          ]
        }
      ]
    },
    {
      "cell_type": "markdown",
      "metadata": {
        "id": "x4GjKI9sw-rK"
      },
      "source": [
        "## Universal Functions (ufunc)\n",
        "\n",
        "Arithmetic operations we can perform with numpy arrays:\n",
        "\n",
        "https://docs.scipy.org/doc/scipy/reference/tutorial/basic.html\n",
        "\n",
        "https://numpy.org/doc/stable/reference/ufuncs.html"
      ]
    },
    {
      "cell_type": "code",
      "metadata": {
        "id": "RH2l-nsTw_dd",
        "colab": {
          "base_uri": "https://localhost:8080/"
        },
        "outputId": "b8aa91ba-7e29-4169-d8a9-9eac04452e18"
      },
      "source": [
        "# ADDING ARRAYS\n",
        "nparr_added = nparr + nparr\n",
        "print(nparr_added)"
      ],
      "execution_count": null,
      "outputs": [
        {
          "output_type": "stream",
          "name": "stdout",
          "text": [
            "[ 0  2  4  6  8 10 12 14 16 18]\n"
          ]
        }
      ]
    },
    {
      "cell_type": "code",
      "metadata": {
        "id": "6M2qhDDOxCKR",
        "colab": {
          "base_uri": "https://localhost:8080/"
        },
        "outputId": "11b77989-a175-4d74-abc6-94fda4678540"
      },
      "source": [
        "# SUBTRACTING ARRAYS\n",
        "nparr_sub= nparr - nparr\n",
        "print(nparr_sub)"
      ],
      "execution_count": null,
      "outputs": [
        {
          "output_type": "stream",
          "name": "stdout",
          "text": [
            "[0 0 0 0 0 0 0 0 0 0]\n"
          ]
        }
      ]
    },
    {
      "cell_type": "code",
      "metadata": {
        "id": "6Q7ui5l5xFFd",
        "colab": {
          "base_uri": "https://localhost:8080/"
        },
        "outputId": "bbc42a0b-38ab-4fc0-b9a9-17f938427c55"
      },
      "source": [
        "# MULTIPLICATING OR DIVISION ARRAYS\n",
        "nparr_mult = nparr * nparr\n",
        "print(nparr_mult)\n",
        "# Note: division zero by zero yields no error, but nan (absence of an object, equal to null)\n",
        "nparr_div = nparr / nparr\n",
        "print(nparr_div)"
      ],
      "execution_count": null,
      "outputs": [
        {
          "output_type": "stream",
          "name": "stdout",
          "text": [
            "[ 0  1  4  9 16 25 36 49 64 81]\n",
            "[nan  1.  1.  1.  1.  1.  1.  1.  1.  1.]\n"
          ]
        },
        {
          "output_type": "stream",
          "name": "stderr",
          "text": [
            "<ipython-input-9-40008f680545>:5: RuntimeWarning: invalid value encountered in true_divide\n",
            "  nparr_div = nparr / nparr\n"
          ]
        }
      ]
    },
    {
      "cell_type": "code",
      "metadata": {
        "id": "8y8KOYJgxHfw"
      },
      "source": [
        "# MULTIPLY BY A SCALARS\n",
        "nparr_esc = nparr * 10\n",
        "print(nparr_esc)"
      ],
      "execution_count": null,
      "outputs": []
    },
    {
      "cell_type": "code",
      "metadata": {
        "id": "eFU9MjmsxOtS",
        "colab": {
          "base_uri": "https://localhost:8080/",
          "height": 85
        },
        "outputId": "16035967-661a-4315-e519-9d5300117656"
      },
      "source": [
        "# ONE DIVIDED BY ZERO\n",
        "# inf signifies infinity for one divided by zero at the very first element\n",
        "nparr_one_div = 1/nparr\n",
        "print(nparr_one_div)"
      ],
      "execution_count": null,
      "outputs": [
        {
          "output_type": "stream",
          "text": [
            "[       inf 1.         0.5        0.33333333 0.25       0.2\n",
            " 0.16666667 0.14285714 0.125      0.11111111 0.1       ]\n"
          ],
          "name": "stdout"
        },
        {
          "output_type": "stream",
          "text": [
            "/usr/local/lib/python3.6/dist-packages/ipykernel_launcher.py:3: RuntimeWarning: divide by zero encountered in true_divide\n",
            "  This is separate from the ipykernel package so we can avoid doing imports until\n"
          ],
          "name": "stderr"
        }
      ]
    },
    {
      "cell_type": "code",
      "metadata": {
        "id": "q01cuOPgxRGY",
        "colab": {
          "base_uri": "https://localhost:8080/",
          "height": 51
        },
        "outputId": "e52a5cb3-922c-4fa8-abbf-c892ad7636ac"
      },
      "source": [
        "# EXPONENT - ARRAYS - Squaring everything - Two options\n",
        "np_arr_exp1 = nparr ** 2\n",
        "print(np_arr_exp1)\n",
        "np_arr_exp2 = np.square(nparr)\n",
        "print(np_arr_exp2)"
      ],
      "execution_count": null,
      "outputs": [
        {
          "output_type": "stream",
          "text": [
            "[  0   1   4   9  16  25  36  49  64  81 100]\n",
            "[  0   1   4   9  16  25  36  49  64  81 100]\n"
          ],
          "name": "stdout"
        }
      ]
    },
    {
      "cell_type": "code",
      "metadata": {
        "id": "G6PuQ1CgxT4B",
        "colab": {
          "base_uri": "https://localhost:8080/",
          "height": 51
        },
        "outputId": "67bc753b-6938-4c95-d34b-b5a21133fbf9"
      },
      "source": [
        "# SQUARE ROOT\n",
        "nparr_sr = np.sqrt(nparr)\n",
        "print(nparr_sr)"
      ],
      "execution_count": null,
      "outputs": [
        {
          "output_type": "stream",
          "text": [
            "[0.         1.         1.41421356 1.73205081 2.         2.23606798\n",
            " 2.44948974 2.64575131 2.82842712 3.         3.16227766]\n"
          ],
          "name": "stdout"
        }
      ]
    },
    {
      "cell_type": "code",
      "metadata": {
        "id": "R_G7nQ9dxX3d",
        "colab": {
          "base_uri": "https://localhost:8080/",
          "height": 68
        },
        "outputId": "04cd11eb-50de-4a82-c7ff-191fbac5d86d"
      },
      "source": [
        "# EXPONENTIAL WITH ARRAYS\n",
        "np_arr_exp3 = np.exp(nparr)\n",
        "print(np_arr_exp3)"
      ],
      "execution_count": null,
      "outputs": [
        {
          "output_type": "stream",
          "text": [
            "[1.00000000e+00 2.71828183e+00 7.38905610e+00 2.00855369e+01\n",
            " 5.45981500e+01 1.48413159e+02 4.03428793e+02 1.09663316e+03\n",
            " 2.98095799e+03 8.10308393e+03 2.20264658e+04]\n"
          ],
          "name": "stdout"
        }
      ]
    },
    {
      "cell_type": "code",
      "metadata": {
        "id": "QD-uBWKPxZv4",
        "colab": {
          "base_uri": "https://localhost:8080/",
          "height": 51
        },
        "outputId": "cb8b53bb-ac51-4a5f-9f8b-8564e9ccea61"
      },
      "source": [
        "# MAX & MIN\n",
        "nparr_max = np.max(nparr)\n",
        "print(nparr_max)\n",
        "nparr_min = np.min(nparr)\n",
        "print(nparr_min)"
      ],
      "execution_count": null,
      "outputs": [
        {
          "output_type": "stream",
          "text": [
            "10\n",
            "0\n"
          ],
          "name": "stdout"
        }
      ]
    },
    {
      "cell_type": "code",
      "metadata": {
        "id": "TRsuqrGnxb7r",
        "colab": {
          "base_uri": "https://localhost:8080/",
          "height": 51
        },
        "outputId": "2e7c28ab-e8b0-4094-dce1-7264fe99f28a"
      },
      "source": [
        "# TRIGONOMETRIC FUNCTIONS - Passing every element into sine function\n",
        "nparr_sin = np.sin(nparr)\n",
        "print(nparr_sin)"
      ],
      "execution_count": null,
      "outputs": [
        {
          "output_type": "stream",
          "text": [
            "[ 0.          0.84147098  0.90929743  0.14112001 -0.7568025  -0.95892427\n",
            " -0.2794155   0.6569866   0.98935825  0.41211849 -0.54402111]\n"
          ],
          "name": "stdout"
        }
      ]
    },
    {
      "cell_type": "code",
      "metadata": {
        "id": "lUE7rfEfxeYH",
        "colab": {
          "base_uri": "https://localhost:8080/",
          "height": 85
        },
        "outputId": "7c965edb-ed25-4b76-ed03-05084945ce72"
      },
      "source": [
        "# LOGARITHMIC - Note:  the very first one is minus infinity\n",
        "nparr_log = np.log(nparr)\n",
        "print(nparr_log)"
      ],
      "execution_count": null,
      "outputs": [
        {
          "output_type": "stream",
          "text": [
            "[      -inf 0.         0.69314718 1.09861229 1.38629436 1.60943791\n",
            " 1.79175947 1.94591015 2.07944154 2.19722458 2.30258509]\n"
          ],
          "name": "stdout"
        },
        {
          "output_type": "stream",
          "text": [
            "/usr/local/lib/python3.6/dist-packages/ipykernel_launcher.py:2: RuntimeWarning: divide by zero encountered in log\n",
            "  \n"
          ],
          "name": "stderr"
        }
      ]
    },
    {
      "cell_type": "markdown",
      "metadata": {
        "id": "b3t7n_rExqYz"
      },
      "source": [
        "# NUMPY PRACTICE EXERCISES"
      ]
    },
    {
      "cell_type": "markdown",
      "metadata": {
        "id": "kM4gRRsvx25_"
      },
      "source": [
        "## 1 . Creates an array of the integers from 10 to 50"
      ]
    },
    {
      "cell_type": "code",
      "metadata": {
        "id": "0Svcsjnrx4xR",
        "colab": {
          "base_uri": "https://localhost:8080/",
          "height": 51
        },
        "outputId": "aa7734f4-cf94-4411-f9b1-fd79e0376d76"
      },
      "source": [],
      "execution_count": null,
      "outputs": [
        {
          "output_type": "stream",
          "text": [
            "[10 11 12 13 14 15 16 17 18 19 20 21 22 23 24 25 26 27 28 29 30 31 32 33\n",
            " 34 35 36 37 38 39 40 41 42 43 44 45 46 47 48 49 50]\n"
          ],
          "name": "stdout"
        }
      ]
    },
    {
      "cell_type": "markdown",
      "metadata": {
        "id": "waLqx2TbyAcb"
      },
      "source": [
        "## 2 . Create an array of the even integers from 10 to 50"
      ]
    },
    {
      "cell_type": "code",
      "metadata": {
        "id": "SMc68WdEx67L",
        "colab": {
          "base_uri": "https://localhost:8080/",
          "height": 34
        },
        "outputId": "0651070d-09c3-47e3-b2b2-a4b6ebe1f9c4"
      },
      "source": [],
      "execution_count": null,
      "outputs": [
        {
          "output_type": "stream",
          "text": [
            "[10 12 14 16 18 20 22 24 26 28 30 32 34 36 38 40 42 44 46 48 50]\n"
          ],
          "name": "stdout"
        }
      ]
    },
    {
      "cell_type": "markdown",
      "metadata": {
        "id": "aIzm88u1yGpE"
      },
      "source": [
        "\n",
        "\n",
        "## 3. Creates a 3x3 matrix with values ranging from 1 to 9"
      ]
    },
    {
      "cell_type": "code",
      "metadata": {
        "id": "EI9KtMn4yId-",
        "colab": {
          "base_uri": "https://localhost:8080/",
          "height": 68
        },
        "outputId": "445a4dba-8ace-4858-a3fb-1cb1538d0002"
      },
      "source": [],
      "execution_count": null,
      "outputs": [
        {
          "output_type": "execute_result",
          "data": {
            "text/plain": [
              "array([[1, 2, 3],\n",
              "       [4, 5, 6],\n",
              "       [7, 8, 9]])"
            ]
          },
          "metadata": {
            "tags": []
          },
          "execution_count": 19
        }
      ]
    },
    {
      "cell_type": "markdown",
      "metadata": {
        "id": "eOvyPzP7yNHs"
      },
      "source": [
        "## 4. Use NumPy to generate a random number between 0 and 1"
      ]
    },
    {
      "cell_type": "code",
      "metadata": {
        "id": "bEKJCls2yOaC",
        "colab": {
          "base_uri": "https://localhost:8080/",
          "height": 34
        },
        "outputId": "76fc4569-cc4d-4a53-d416-a4a5d358ab81"
      },
      "source": [],
      "execution_count": null,
      "outputs": [
        {
          "output_type": "execute_result",
          "data": {
            "text/plain": [
              "array([0.13527247])"
            ]
          },
          "metadata": {
            "tags": []
          },
          "execution_count": 20
        }
      ]
    },
    {
      "cell_type": "markdown",
      "metadata": {
        "id": "NCxHKGsIybmd"
      },
      "source": [
        "\n",
        "\n",
        "## 5. Use NumPy to generate 25 random numbers sampled from a standard normal distribution"
      ]
    },
    {
      "cell_type": "code",
      "metadata": {
        "id": "8uajaz4oyd01",
        "colab": {
          "base_uri": "https://localhost:8080/",
          "height": 102
        },
        "outputId": "2704de44-5679-49fc-a385-38865f55b567"
      },
      "source": [],
      "execution_count": null,
      "outputs": [
        {
          "output_type": "execute_result",
          "data": {
            "text/plain": [
              "array([-0.35316183, -0.52751266, -0.20180831, -0.67227165,  0.41301332,\n",
              "       -0.63161417,  0.16631995, -0.65149176,  0.02451503,  1.10578817,\n",
              "       -0.32533891, -0.26378292,  0.68071128, -0.92187816, -0.98579107,\n",
              "        2.76201102,  0.21613128, -1.66725055, -0.17449859, -0.2815837 ,\n",
              "        0.9276035 ,  1.12654059, -0.41979546,  1.66721307,  1.00294692])"
            ]
          },
          "metadata": {
            "tags": []
          },
          "execution_count": 21
        }
      ]
    },
    {
      "cell_type": "markdown",
      "metadata": {
        "id": "RddxbwyayiVs"
      },
      "source": [
        "## 6. Create a matrix of 100 items spaced equally at 0.01 steps ranged fro 0.01 to 1"
      ]
    },
    {
      "cell_type": "code",
      "metadata": {
        "id": "FzOdZXwRyjsO",
        "colab": {
          "base_uri": "https://localhost:8080/",
          "height": 187
        },
        "outputId": "41f0c8be-d6e6-4d34-9c0e-ccab81af2031"
      },
      "source": [],
      "execution_count": null,
      "outputs": [
        {
          "output_type": "execute_result",
          "data": {
            "text/plain": [
              "array([[0.01, 0.02, 0.03, 0.04, 0.05, 0.06, 0.07, 0.08, 0.09, 0.1 ],\n",
              "       [0.11, 0.12, 0.13, 0.14, 0.15, 0.16, 0.17, 0.18, 0.19, 0.2 ],\n",
              "       [0.21, 0.22, 0.23, 0.24, 0.25, 0.26, 0.27, 0.28, 0.29, 0.3 ],\n",
              "       [0.31, 0.32, 0.33, 0.34, 0.35, 0.36, 0.37, 0.38, 0.39, 0.4 ],\n",
              "       [0.41, 0.42, 0.43, 0.44, 0.45, 0.46, 0.47, 0.48, 0.49, 0.5 ],\n",
              "       [0.51, 0.52, 0.53, 0.54, 0.55, 0.56, 0.57, 0.58, 0.59, 0.6 ],\n",
              "       [0.61, 0.62, 0.63, 0.64, 0.65, 0.66, 0.67, 0.68, 0.69, 0.7 ],\n",
              "       [0.71, 0.72, 0.73, 0.74, 0.75, 0.76, 0.77, 0.78, 0.79, 0.8 ],\n",
              "       [0.81, 0.82, 0.83, 0.84, 0.85, 0.86, 0.87, 0.88, 0.89, 0.9 ],\n",
              "       [0.91, 0.92, 0.93, 0.94, 0.95, 0.96, 0.97, 0.98, 0.99, 1.  ]])"
            ]
          },
          "metadata": {
            "tags": []
          },
          "execution_count": 22
        }
      ]
    },
    {
      "cell_type": "code",
      "metadata": {
        "id": "yJxrHMO0ylZj",
        "colab": {
          "base_uri": "https://localhost:8080/",
          "height": 187
        },
        "outputId": "c2a19581-17c6-43ca-c47c-03598553da5e"
      },
      "source": [
        "# Returning the exact same result as above\n"
      ],
      "execution_count": null,
      "outputs": [
        {
          "output_type": "execute_result",
          "data": {
            "text/plain": [
              "array([[0.01, 0.02, 0.03, 0.04, 0.05, 0.06, 0.07, 0.08, 0.09, 0.1 ],\n",
              "       [0.11, 0.12, 0.13, 0.14, 0.15, 0.16, 0.17, 0.18, 0.19, 0.2 ],\n",
              "       [0.21, 0.22, 0.23, 0.24, 0.25, 0.26, 0.27, 0.28, 0.29, 0.3 ],\n",
              "       [0.31, 0.32, 0.33, 0.34, 0.35, 0.36, 0.37, 0.38, 0.39, 0.4 ],\n",
              "       [0.41, 0.42, 0.43, 0.44, 0.45, 0.46, 0.47, 0.48, 0.49, 0.5 ],\n",
              "       [0.51, 0.52, 0.53, 0.54, 0.55, 0.56, 0.57, 0.58, 0.59, 0.6 ],\n",
              "       [0.61, 0.62, 0.63, 0.64, 0.65, 0.66, 0.67, 0.68, 0.69, 0.7 ],\n",
              "       [0.71, 0.72, 0.73, 0.74, 0.75, 0.76, 0.77, 0.78, 0.79, 0.8 ],\n",
              "       [0.81, 0.82, 0.83, 0.84, 0.85, 0.86, 0.87, 0.88, 0.89, 0.9 ],\n",
              "       [0.91, 0.92, 0.93, 0.94, 0.95, 0.96, 0.97, 0.98, 0.99, 1.  ]])"
            ]
          },
          "metadata": {
            "tags": []
          },
          "execution_count": 23
        }
      ]
    },
    {
      "cell_type": "markdown",
      "metadata": {
        "id": "tQVoOsaAyp1X"
      },
      "source": [
        "## 7. Create an array of 20 linearly spaced points between 0 and 1"
      ]
    },
    {
      "cell_type": "code",
      "metadata": {
        "id": "4MtcWJA4yrGl",
        "colab": {
          "base_uri": "https://localhost:8080/",
          "height": 85
        },
        "outputId": "9a9c323f-0b31-4c71-d6c7-20d6978ba8bb"
      },
      "source": [],
      "execution_count": null,
      "outputs": [
        {
          "output_type": "execute_result",
          "data": {
            "text/plain": [
              "array([0.        , 0.05263158, 0.10526316, 0.15789474, 0.21052632,\n",
              "       0.26315789, 0.31578947, 0.36842105, 0.42105263, 0.47368421,\n",
              "       0.52631579, 0.57894737, 0.63157895, 0.68421053, 0.73684211,\n",
              "       0.78947368, 0.84210526, 0.89473684, 0.94736842, 1.        ])"
            ]
          },
          "metadata": {
            "tags": []
          },
          "execution_count": 24
        }
      ]
    },
    {
      "cell_type": "markdown",
      "metadata": {
        "id": "ROMflFPMyxX8"
      },
      "source": [
        "# INDEXING & SLICING NOTATION in PYTHON\n",
        "\n",
        "## What does indexing mean in Python?\n",
        "An index refers to a position within an ordered list.\n",
        "\n",
        "## And what about Slicing?\n",
        "Slicing in python means taking elements from one given index to another given index. We pass slice instead of an index like this: [[start:end]]. We can also define the step, like this: [[start:end:step]].\n"
      ]
    },
    {
      "cell_type": "markdown",
      "metadata": {
        "id": "GI3tgye0y4Q_"
      },
      "source": [
        "\n",
        "## Two-Dimensional Array: arr_2_d\n",
        "\n",
        "There are 2 general formats for GRABBING ELEMENTS from a 2-d array (matrix):\n",
        "\n",
        "1. DOUBLE BRACKET FORMAT   \n",
        "\n",
        "      mat[row][column]\n",
        "\n",
        "2. SINGLE BRACKET FORMAT   \n",
        "\n",
        "      mat[row,column]\n",
        "      \n",
        "      w/ comma, this is least prone to error!"
      ]
    },
    {
      "cell_type": "markdown",
      "metadata": {
        "id": "uAaaiIVIzGNW"
      },
      "source": [
        "## Indexing & Slicing Notation (mnemonic):\n",
        "\n",
        "[ row : Column ]\n",
        "\n",
        "### Indexing:\n",
        "\n",
        "[ **Grab just the** ] , [ **and just the** ]\n",
        "\n",
        "### Slicing: (bni)\n",
        "\n",
        "[**Grab all from the : up to the** ] , [ **and all from the : up to the** ]\n",
        "\n",
        "[ **but not including (bni)** ]: [ **but not including (bni)**]"
      ]
    },
    {
      "cell_type": "markdown",
      "metadata": {
        "id": "erYYymH9zfFK"
      },
      "source": [
        "PRACTICING EXERCISES:\n",
        "\n",
        "(for Indexing & Slicing in Python & NumPy)"
      ]
    },
    {
      "cell_type": "code",
      "metadata": {
        "id": "93KjIoWVysto",
        "colab": {
          "base_uri": "https://localhost:8080/",
          "height": 102
        },
        "outputId": "253183ca-fc43-40f1-df3d-f12721ad1246"
      },
      "source": [
        "# Use this 2-Dimensional Array for this exercises\n"
      ],
      "execution_count": null,
      "outputs": [
        {
          "output_type": "stream",
          "text": [
            "[[ 1  2  3  4  5]\n",
            " [ 6  7  8  9 10]\n",
            " [11 12 13 14 15]\n",
            " [16 17 18 19 20]\n",
            " [21 22 23 24 25]]\n"
          ],
          "name": "stdout"
        }
      ]
    },
    {
      "cell_type": "markdown",
      "metadata": {
        "id": "0SIFJUaTztCI"
      },
      "source": [
        "### 8. Grab element 20  of the arr_2_d array"
      ]
    },
    {
      "cell_type": "code",
      "metadata": {
        "id": "VGcspB0SztmQ",
        "colab": {
          "base_uri": "https://localhost:8080/",
          "height": 34
        },
        "outputId": "3371e5df-155f-4ec3-c092-18c6c1718208"
      },
      "source": [
        "\n",
        "# That is to say:\n",
        "# for row: **Grab just the** forth row,\n",
        "#          it rescues just one element in the forth row:), and\n",
        "# for column: **and just the** fifth column.\n",
        "#             It rescues just one element in fifth column, again:)"
      ],
      "execution_count": null,
      "outputs": [
        {
          "output_type": "execute_result",
          "data": {
            "text/plain": [
              "20"
            ]
          },
          "metadata": {
            "tags": []
          },
          "execution_count": 26
        }
      ]
    },
    {
      "cell_type": "markdown",
      "metadata": {
        "id": "mU7f5am2z0jZ"
      },
      "source": [
        "### 9. Grab items 2, 7, 12 of the arr_2_d array"
      ]
    },
    {
      "cell_type": "code",
      "metadata": {
        "id": "g3QBOE6vz2uR",
        "colab": {
          "base_uri": "https://localhost:8080/",
          "height": 68
        },
        "outputId": "33eaa086-b68c-446f-a41f-df304c4fda6f"
      },
      "source": [
        "\n",
        "# That is to say:\n",
        "#\n",
        "# for row: **Grab all from the** begining,\n",
        "#          **up to the** forth row (but not including),\n",
        "#          it rescues 3 rows in a row,\n",
        "#\n",
        "# for column: **and all from the** second\n",
        "#             **up to the** 3ª Column (bni).\n",
        "#             It rescues just one column, the second one:)"
      ],
      "execution_count": null,
      "outputs": [
        {
          "output_type": "execute_result",
          "data": {
            "text/plain": [
              "array([[ 2],\n",
              "       [ 7],\n",
              "       [12]])"
            ]
          },
          "metadata": {
            "tags": []
          },
          "execution_count": 27
        }
      ]
    },
    {
      "cell_type": "markdown",
      "metadata": {
        "id": "AtAhD17G0nH9"
      },
      "source": [
        "### 10. Grab the last row of the arr_2_d array"
      ]
    },
    {
      "cell_type": "code",
      "metadata": {
        "id": "yHEr1Vthz5Fh",
        "colab": {
          "base_uri": "https://localhost:8080/",
          "height": 34
        },
        "outputId": "f1cdbb60-cf1f-4e17-e3f1-4a0feb042639"
      },
      "source": [
        "\n",
        "# That is to say:\n",
        "#\n",
        "# for row: **Grab just the** fifth row,\n",
        "#          it rescues just the last row:),\n",
        "#\n",
        "# for column: **and all from the** beginning **up to the** end of\n",
        "#             the columns(:). It rescues all the columns:)"
      ],
      "execution_count": null,
      "outputs": [
        {
          "output_type": "execute_result",
          "data": {
            "text/plain": [
              "array([21, 22, 23, 24, 25])"
            ]
          },
          "metadata": {
            "tags": []
          },
          "execution_count": 28
        }
      ]
    },
    {
      "cell_type": "markdown",
      "metadata": {
        "id": "V4QJvxly01mZ"
      },
      "source": [
        "### 11. Get the sum of all the values, column values and row values in arr_2_d array"
      ]
    },
    {
      "cell_type": "code",
      "metadata": {
        "id": "r4C7rdUn02Lx",
        "colab": {
          "base_uri": "https://localhost:8080/",
          "height": 34
        },
        "outputId": "d8e2f229-1238-4941-8ec7-0b8367575dc6"
      },
      "source": [
        "# Using NumPy and pass array as parameter\n",
        "\n",
        "# OR\n",
        "# Use the method of the object array itself directly\n"
      ],
      "execution_count": null,
      "outputs": [
        {
          "output_type": "execute_result",
          "data": {
            "text/plain": [
              "325"
            ]
          },
          "metadata": {
            "tags": []
          },
          "execution_count": 29
        }
      ]
    },
    {
      "cell_type": "code",
      "metadata": {
        "id": "j_UbfWuO038O",
        "colab": {
          "base_uri": "https://localhost:8080/",
          "height": 34
        },
        "outputId": "9ed7e0a4-386c-416b-fe1d-679a45aff456"
      },
      "source": [
        "\n",
        "# axis=0 -> row -> so the result is placed in a row\n",
        "# (then it is a columns' sum)\n",
        "\n",
        "# axis=1 -> columns -> so the result is placed in a column\n",
        "# (then it is a row's sum:)\n",
        "\n",
        "\n",
        "# axis=0 -> row -> so the result is placed in a row\n",
        "# (then it is a columns' sum)\n",
        "\n",
        "# axis=1 -> columns -> so the result is placed in a column\n",
        "# (then it is a row's sum:)"
      ],
      "execution_count": null,
      "outputs": [
        {
          "output_type": "execute_result",
          "data": {
            "text/plain": [
              "325"
            ]
          },
          "metadata": {
            "tags": []
          },
          "execution_count": 30
        }
      ]
    },
    {
      "cell_type": "markdown",
      "metadata": {
        "id": "rfxf2izz1FGw"
      },
      "source": [
        "### 12. Get the standard diviation of the values in arr_2_d array"
      ]
    },
    {
      "cell_type": "code",
      "metadata": {
        "id": "om6NxGEH1F8k",
        "colab": {
          "base_uri": "https://localhost:8080/",
          "height": 34
        },
        "outputId": "219f73b9-c352-48d2-82e4-d9de8587b5a8"
      },
      "source": [],
      "execution_count": null,
      "outputs": [
        {
          "output_type": "execute_result",
          "data": {
            "text/plain": [
              "7.211102550927978"
            ]
          },
          "metadata": {
            "tags": []
          },
          "execution_count": 31
        }
      ]
    },
    {
      "cell_type": "code",
      "source": [
        "# Returning the exact same result as above\n"
      ],
      "metadata": {
        "id": "bnICQsGXYbm7"
      },
      "execution_count": null,
      "outputs": []
    },
    {
      "cell_type": "markdown",
      "metadata": {
        "id": "uUFmB7et1ezJ"
      },
      "source": [
        "# CONDITIONAL SELECTION"
      ]
    },
    {
      "cell_type": "markdown",
      "metadata": {
        "id": "-W_rKpYA1kJr"
      },
      "source": [
        "### SUMMARY\n",
        "\n",
        "1. Get an array and perform a comparison operator on it; it will return a boolean array;\n",
        "2. Use that boolean array to index a conditional selection."
      ]
    },
    {
      "cell_type": "code",
      "metadata": {
        "id": "MvAI1M7F1kpU",
        "colab": {
          "base_uri": "https://localhost:8080/",
          "height": 34
        },
        "outputId": "79376cf4-777d-491e-fe60-fb3127dd27b6"
      },
      "source": [
        "# Given that Array to test Conditional Selection\n",
        "arr = np.arange(1,11)\n",
        "print(arr)"
      ],
      "execution_count": null,
      "outputs": [
        {
          "output_type": "stream",
          "text": [
            "[ 1  2  3  4  5  6  7  8  9 10]\n"
          ],
          "name": "stdout"
        }
      ]
    },
    {
      "cell_type": "code",
      "metadata": {
        "id": "qmfpQJae1oLy",
        "colab": {
          "base_uri": "https://localhost:8080/",
          "height": 34
        },
        "outputId": "9d7a673b-612c-4603-d8bb-0fbf4cbd0b2a"
      },
      "source": [
        "# Perform the comparison and grab the result (booleans array)\n",
        "bool_arr = arr < 5\n",
        "print(bool_arr)"
      ],
      "execution_count": null,
      "outputs": [
        {
          "output_type": "stream",
          "text": [
            "[ True  True  True  True False False False False False False]\n"
          ],
          "name": "stdout"
        }
      ]
    },
    {
      "cell_type": "code",
      "metadata": {
        "id": "orkXjA9z1qoh",
        "colab": {
          "base_uri": "https://localhost:8080/",
          "height": 34
        },
        "outputId": "e3d6bace-bf15-4c0d-cae3-8afc5d019218"
      },
      "source": [
        "# I can now use that booleans array to actualy index or **conditionally select** elements\n",
        "#  from the original array (arr); then only return instances where boolean array is true.\n",
        "result_arr = arr[bool_arr]\n",
        "print(result_arr)"
      ],
      "execution_count": null,
      "outputs": [
        {
          "output_type": "stream",
          "text": [
            "[1 2 3 4]\n"
          ],
          "name": "stdout"
        }
      ]
    },
    {
      "cell_type": "markdown",
      "metadata": {
        "id": "ZgZP1kSz1vOa"
      },
      "source": [
        "### In Just One line of code. Just Awesome!"
      ]
    },
    {
      "cell_type": "code",
      "metadata": {
        "id": "-4Qg1Wbq1vlC",
        "colab": {
          "base_uri": "https://localhost:8080/",
          "height": 34
        },
        "outputId": "dc681319-b210-4d0a-999a-abcbae735470"
      },
      "source": [
        "# Returning the same result as above\n",
        "result_arr = arr[arr<5]\n",
        "print(result_arr)"
      ],
      "execution_count": null,
      "outputs": [
        {
          "output_type": "stream",
          "text": [
            "[1 2 3 4]\n"
          ],
          "name": "stdout"
        }
      ]
    },
    {
      "cell_type": "markdown",
      "metadata": {
        "id": "cTfCIaC5177t"
      },
      "source": [
        "### Notes:\n",
        "\n",
        "Getting an array and using a comparison operator on it will actually return a boolean array (meaning an array of all boolean values).\n",
        "\n",
        "Then we can use that boolean array to actually index or conditionally select elements from the original array where this happened to true.\n",
        "\n",
        "So only return instances where that boolean array is true, and more commonly, instead of sorting of splitting this up into 2 steps, we would actually do this all in one step (see code above).\n",
        "\n",
        "We would say, an array, and in brackets, instead of the array, we would pass in the conditional statement (arr[arr<5]), and that would return the same answer as the 2-step method and this is the sort of syntax notation we're going to be using all the time as far as conditional selection is an issue.\n",
        "\n",
        "It's kind of weird to pass the variable itself as a parameter to the indexer brackets, but that's how it works!\n",
        "\n",
        "THIS IS THE SORT OF SYNTAX NOTATION YOU WOULD GET USED SPECIALLY WHEN WE MOVE ON TO PANDAS!"
      ]
    },
    {
      "cell_type": "markdown",
      "source": [
        "## Advanced Questions"
      ],
      "metadata": {
        "id": "9M5JG6S1ZL0e"
      }
    },
    {
      "cell_type": "markdown",
      "source": [
        "### 13. Declare a 8x8 matrix and fill it with a checkerboard (or chess) pattern."
      ],
      "metadata": {
        "id": "11amIBueZOZY"
      }
    },
    {
      "cell_type": "code",
      "source": [],
      "metadata": {
        "id": "LjR0lnK_ZNXr"
      },
      "execution_count": null,
      "outputs": []
    },
    {
      "cell_type": "markdown",
      "source": [
        "### 14. Declare a 10x10 array with random values and find the minimum and maximum values."
      ],
      "metadata": {
        "id": "tmNGX1c6ZRxx"
      }
    },
    {
      "cell_type": "code",
      "source": [],
      "metadata": {
        "id": "Fx9enDeLZXYl"
      },
      "execution_count": null,
      "outputs": []
    },
    {
      "cell_type": "markdown",
      "source": [
        "### 15. Create a random 10x2 matrix. Considering each pair represents an (x,y) co-ordinate in 2-D, obtain a matrix which contains (r,theta) in polar co-ordinate system.\n",
        "\n"
      ],
      "metadata": {
        "id": "4kHMCyp0ZZAJ"
      }
    },
    {
      "cell_type": "code",
      "source": [],
      "metadata": {
        "id": "KjuZwDO_ZaEU"
      },
      "execution_count": null,
      "outputs": []
    },
    {
      "cell_type": "markdown",
      "source": [
        "### 16. Multiply a 5x3 matrix by a 3x2 matrix (real matrix product)"
      ],
      "metadata": {
        "id": "D9zS4ibLZj56"
      }
    },
    {
      "cell_type": "code",
      "source": [],
      "metadata": {
        "id": "YGprtzjBZmf0"
      },
      "execution_count": null,
      "outputs": []
    },
    {
      "cell_type": "markdown",
      "source": [
        "## Broadcasting"
      ],
      "metadata": {
        "id": "aQF05wGvZv0I"
      }
    },
    {
      "cell_type": "markdown",
      "source": [
        "Numpy use a powerful idea called broadcasting. The best thing is that it is also simple to use. Example, we will execute the following in the cell below.\n",
        "```\n",
        "x = np.arange(4)\n",
        "print(x)\n",
        "y = x + 3\n",
        "print(y)\n",
        "```\n",
        "Did you notice how 3 got added to every element of x! This is refered to as broadcasting. The concept extends when you wish to add a vector to every row (or column) of a matrix."
      ],
      "metadata": {
        "id": "aGfbP1-oZqzq"
      }
    },
    {
      "cell_type": "code",
      "source": [
        "x = np.arange(4)\n",
        "print(x)\n",
        "y = x + 3\n",
        "print(y)"
      ],
      "metadata": {
        "id": "ZeC8lOWsZrI7"
      },
      "execution_count": null,
      "outputs": []
    },
    {
      "cell_type": "markdown",
      "source": [
        "Can we demonstrate a computational time benefit of broadcasting? For this we will need to measure time. No worries, let's welcome the timeit package."
      ],
      "metadata": {
        "id": "em_C30voZ7H0"
      }
    },
    {
      "cell_type": "code",
      "source": [
        "# importing the required module\n",
        "import timeit\n",
        "\n",
        "# code snippet to be executed only once\n",
        "test_setup = \"import numpy as np\"\n",
        "\n",
        "# code snippet to be executed only once\n",
        "test_code_1 = '''\n",
        "def example_function():\n",
        "    return np.arange(1000)\n",
        "'''\n",
        "num_runs = 1000\n",
        "time_elapsed = timeit.timeit(setup=test_setup, stmt = test_code_1, number=num_runs)\n",
        "print('Time taken: ' + str(time_elapsed/num_runs))"
      ],
      "metadata": {
        "id": "yG3VVQ2VZ7cQ"
      },
      "execution_count": null,
      "outputs": []
    },
    {
      "cell_type": "markdown",
      "source": [
        "A bottlenecks in code is loops, this holds especially for python code. Compared to languages like C/C++ , Python loops are relatively slower. One reason for this is the dynamically typed nature of Python.\n",
        "\n",
        "Python interpreter first goes line-by-line through the code, compiles the code into bytecode, which is then executed to run the program. Let's consider the code contains a section where it has to loop over a list. Being dynamically typed, Python has no idea what type of objects are present in the list (whether it's an integer, a string or a float). Further, this information is basically stored in every object itself, and Python can not know this in advance before actually going through the list. Hence, at each iteration python has to perform a bunch of checks every iteration like determining the type of variable, resolving it's scope, checking for any invalid operations etc.\n",
        "\n",
        "Contrasting this with C, arrays are allowed to be consisting of only one data type, which the compiler knows well ahead of time. This opens up possibility of many optimizations which are not possible in Python. For this reason, loops in python are often much slower than in C, and nested loops is where things can really get slow."
      ],
      "metadata": {
        "id": "CZDIakVraF0R"
      }
    },
    {
      "cell_type": "markdown",
      "source": [
        "### 17. In the below cell, define two random vectors x and y, each of size (1000x1). Do an elementwise multiplication of these vectors to get a new vector z. Try two approaches for this: (a) writing a function which uses a loop, (b) writing a function which the \"star\" numpy operator. Print the time for approach (a) and (b)."
      ],
      "metadata": {
        "id": "iQMahDMIaQgF"
      }
    },
    {
      "cell_type": "code",
      "source": [],
      "metadata": {
        "id": "MKbaayVzaE8x"
      },
      "execution_count": null,
      "outputs": []
    },
    {
      "cell_type": "markdown",
      "source": [
        "# Bonus Question"
      ],
      "metadata": {
        "id": "4-lwm_mrag6f"
      }
    },
    {
      "cell_type": "markdown",
      "source": [
        "### 18. Create a 2-D grid between (-10,10) in x-axis and (-10,10) in y-axis, with step size of .01. Generate a 2-D gaussian function on this grid, with mean = (0,0), and co-variance being an identity matrix. Plot the 2-D Gaussian using plot3D() function."
      ],
      "metadata": {
        "id": "LtYkO8mSaSr2"
      }
    },
    {
      "cell_type": "code",
      "source": [],
      "metadata": {
        "id": "i4p24HCMafpd"
      },
      "execution_count": null,
      "outputs": []
    }
  ]
}